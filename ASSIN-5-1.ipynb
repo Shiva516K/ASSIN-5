{
 "cells": [
  {
   "cell_type": "code",
   "execution_count": 32,
   "id": "836d397c",
   "metadata": {},
   "outputs": [],
   "source": [
    "#code by shiva kumar \n",
    "\n",
    "class Point:\n",
    "\n",
    "    def __init__(self,x,y,z):\n",
    "        self.x = x\n",
    "        self.y = y\n",
    "        self.z = z\n",
    "    def print_detalis(self):\n",
    "         print(\"sum of the square x : {}, y:{}, z:{}\".format(self.x,self.y,self.z))\n",
    "    def sqSum(self):\n",
    "          return self.x**2+self.y**2+self.z**2\n",
    "    "
   ]
  },
  {
   "cell_type": "code",
   "execution_count": 33,
   "id": "f6c2154c",
   "metadata": {},
   "outputs": [],
   "source": [
    "mypo = Point(1,3,5)"
   ]
  },
  {
   "cell_type": "code",
   "execution_count": 34,
   "id": "8eac5818",
   "metadata": {},
   "outputs": [
    {
     "data": {
      "text/plain": [
       "1"
      ]
     },
     "execution_count": 34,
     "metadata": {},
     "output_type": "execute_result"
    }
   ],
   "source": [
    "mypo.x"
   ]
  },
  {
   "cell_type": "code",
   "execution_count": 35,
   "id": "bcec12c0",
   "metadata": {},
   "outputs": [
    {
     "data": {
      "text/plain": [
       "35"
      ]
     },
     "execution_count": 35,
     "metadata": {},
     "output_type": "execute_result"
    }
   ],
   "source": [
    "mypo.sqSum()"
   ]
  },
  {
   "cell_type": "code",
   "execution_count": 36,
   "id": "d8f30ec0",
   "metadata": {},
   "outputs": [
    {
     "name": "stdout",
     "output_type": "stream",
     "text": [
      "sum of the square x : 1, y:3, z:5\n"
     ]
    }
   ],
   "source": [
    "mypo.print_detalis()\n"
   ]
  },
  {
   "cell_type": "code",
   "execution_count": 37,
   "id": "4bedf1bb",
   "metadata": {},
   "outputs": [],
   "source": [
    "class Point:\n",
    "\n",
    "    def __init__(self,x,y,z):\n",
    "        self.x = x**2\n",
    "        self.y = y**2\n",
    "        self.z = z**2\n",
    "    def print_detalis(self):\n",
    "         print(\"sum of the square x : {}, y:{}, z:{}\".format(self.x,self.y,self.z))\n",
    "    def sqSum(self):\n",
    "          return self.x +self.y+self.z\n",
    "    "
   ]
  },
  {
   "cell_type": "code",
   "execution_count": 38,
   "id": "fe261589",
   "metadata": {},
   "outputs": [],
   "source": [
    "mypo= Point(1,3,5)"
   ]
  },
  {
   "cell_type": "code",
   "execution_count": 39,
   "id": "20bd202e",
   "metadata": {},
   "outputs": [
    {
     "name": "stdout",
     "output_type": "stream",
     "text": [
      "sum of the square x : 1, y:9, z:25\n"
     ]
    }
   ],
   "source": [
    "mypo.print_detalis()"
   ]
  },
  {
   "cell_type": "code",
   "execution_count": 40,
   "id": "e4d52783",
   "metadata": {},
   "outputs": [
    {
     "data": {
      "text/plain": [
       "35"
      ]
     },
     "execution_count": 40,
     "metadata": {},
     "output_type": "execute_result"
    }
   ],
   "source": [
    "mypo.sqSum()"
   ]
  },
  {
   "cell_type": "code",
   "execution_count": null,
   "id": "c5480a50",
   "metadata": {},
   "outputs": [],
   "source": []
  },
  {
   "cell_type": "code",
   "execution_count": null,
   "id": "44d06ba2",
   "metadata": {},
   "outputs": [],
   "source": []
  }
 ],
 "metadata": {
  "kernelspec": {
   "display_name": "Python 3 (ipykernel)",
   "language": "python",
   "name": "python3"
  },
  "language_info": {
   "codemirror_mode": {
    "name": "ipython",
    "version": 3
   },
   "file_extension": ".py",
   "mimetype": "text/x-python",
   "name": "python",
   "nbconvert_exporter": "python",
   "pygments_lexer": "ipython3",
   "version": "3.11.3"
  }
 },
 "nbformat": 4,
 "nbformat_minor": 5
}
